{
 "cells": [
  {
   "cell_type": "code",
   "execution_count": null,
   "metadata": {},
   "outputs": [],
   "source": [
    "import numpy as np\n",
    "from search_compiler_native import *\n",
    "from search_compiler.gatesets import QubitCNOTLinear\n",
    "from search_compiler.circuits import *\n",
    "\n",
    "def native_fill_row(gate, n):\n",
    "    return GateKronecker(np.repeat(gate, n))\n",
    "\n",
    "def native_linear_topo(double_step, single_step, n, d, identity_step=None):\n",
    "    if not identity_step:\n",
    "        identity_step = GateIdentity(n, d)\n",
    "    return [GateProduct(np.array([GateKronecker(np.array([*[identity_step]*i, double_step, *[identity_step]*(n-i-2)])),\n",
    "                        GateKronecker(np.array([*[identity_step]*i, single_step, single_step, *[identity_step]*(n-i-2)]))])\n",
    "            ) for i in range(0,n-1)]\n",
    "qubits = 4\n",
    "\n",
    "\n",
    "%time native_fill_row(GateSingleQubit(1), qubits)\n",
    "%time native = native_linear_topo(GateCNOT(), GateSingleQubit(1), qubits, 1)\n",
    "%time native[0].matrix(np.repeat(np.pi, 100))\n",
    "\n",
    "\n",
    "qct = QubitCNOTLinear()\n",
    "%time qct.initial_layer(qubits, 1)\n",
    "%time py = qct.search_layers(qubits, 1)\n",
    "%time py[0].matrix(np.repeat(np.pi, 100))\n"
   ]
  },
  {
   "cell_type": "code",
   "execution_count": null,
   "metadata": {},
   "outputs": [],
   "source": []
  }
 ],
 "metadata": {
  "kernelspec": {
   "display_name": "quantumsythesis",
   "language": "python",
   "name": "quantumsythesis"
  },
  "language_info": {
   "codemirror_mode": {
    "name": "ipython",
    "version": 3
   },
   "file_extension": ".py",
   "mimetype": "text/x-python",
   "name": "python",
   "nbconvert_exporter": "python",
   "pygments_lexer": "ipython3",
   "version": "3.7.3"
  }
 },
 "nbformat": 4,
 "nbformat_minor": 2
}
