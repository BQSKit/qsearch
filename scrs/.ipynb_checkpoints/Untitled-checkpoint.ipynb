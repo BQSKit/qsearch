{
 "cells": [
  {
   "cell_type": "code",
   "execution_count": 10,
   "metadata": {},
   "outputs": [
    {
     "ename": "ValueError",
     "evalue": "only 2 non-keyword arguments accepted",
     "output_type": "error",
     "traceback": [
      "\u001b[0;31m---------------------------------------------------------------------------\u001b[0m",
      "\u001b[0;31mValueError\u001b[0m                                Traceback (most recent call last)",
      "\u001b[0;32m<ipython-input-10-9180d18d623a>\u001b[0m in \u001b[0;36m<module>\u001b[0;34m\u001b[0m\n\u001b[1;32m     19\u001b[0m \u001b[0;34m\u001b[0m\u001b[0m\n\u001b[1;32m     20\u001b[0m \u001b[0mnative_fill_row\u001b[0m\u001b[0;34m(\u001b[0m\u001b[0mGateSingleQubit\u001b[0m\u001b[0;34m(\u001b[0m\u001b[0;36m1\u001b[0m\u001b[0;34m)\u001b[0m\u001b[0;34m,\u001b[0m \u001b[0mqubits\u001b[0m\u001b[0;34m)\u001b[0m\u001b[0;34m\u001b[0m\u001b[0;34m\u001b[0m\u001b[0m\n\u001b[0;32m---> 21\u001b[0;31m \u001b[0mnative_linear_topo\u001b[0m\u001b[0;34m(\u001b[0m\u001b[0mGateCNOT\u001b[0m\u001b[0;34m(\u001b[0m\u001b[0;34m)\u001b[0m\u001b[0;34m,\u001b[0m \u001b[0mGateSingleQubit\u001b[0m\u001b[0;34m(\u001b[0m\u001b[0;36m1\u001b[0m\u001b[0;34m)\u001b[0m\u001b[0;34m,\u001b[0m \u001b[0mqubits\u001b[0m\u001b[0;34m,\u001b[0m \u001b[0;36m1\u001b[0m\u001b[0;34m)\u001b[0m\u001b[0;34m\u001b[0m\u001b[0;34m\u001b[0m\u001b[0m\n\u001b[0m",
      "\u001b[0;32m<ipython-input-10-9180d18d623a>\u001b[0m in \u001b[0;36mnative_linear_topo\u001b[0;34m(double_step, single_step, n, d, identity_step)\u001b[0m\n\u001b[1;32m     12\u001b[0m     return [GateProduct(np.array([GateKronecker(np.array(*[identity_step]*i, double_step, *[identity_step]*(n-i-2))),\n\u001b[1;32m     13\u001b[0m                         GateKronecker(np.array(*[identity_step]*i, single_step, single_step, *[identity_step]*(n-i-2)))])\n\u001b[0;32m---> 14\u001b[0;31m             ) for i in builtins.range(0,n-1)]\n\u001b[0m\u001b[1;32m     15\u001b[0m \u001b[0mqubits\u001b[0m \u001b[0;34m=\u001b[0m \u001b[0;36m4\u001b[0m\u001b[0;34m\u001b[0m\u001b[0;34m\u001b[0m\u001b[0m\n\u001b[1;32m     16\u001b[0m \u001b[0mqct\u001b[0m \u001b[0;34m=\u001b[0m \u001b[0mQubitCNOTLinear\u001b[0m\u001b[0;34m(\u001b[0m\u001b[0;34m)\u001b[0m\u001b[0;34m\u001b[0m\u001b[0;34m\u001b[0m\u001b[0m\n",
      "\u001b[0;32m<ipython-input-10-9180d18d623a>\u001b[0m in \u001b[0;36m<listcomp>\u001b[0;34m(.0)\u001b[0m\n\u001b[1;32m     12\u001b[0m     return [GateProduct(np.array([GateKronecker(np.array(*[identity_step]*i, double_step, *[identity_step]*(n-i-2))),\n\u001b[1;32m     13\u001b[0m                         GateKronecker(np.array(*[identity_step]*i, single_step, single_step, *[identity_step]*(n-i-2)))])\n\u001b[0;32m---> 14\u001b[0;31m             ) for i in builtins.range(0,n-1)]\n\u001b[0m\u001b[1;32m     15\u001b[0m \u001b[0mqubits\u001b[0m \u001b[0;34m=\u001b[0m \u001b[0;36m4\u001b[0m\u001b[0;34m\u001b[0m\u001b[0;34m\u001b[0m\u001b[0m\n\u001b[1;32m     16\u001b[0m \u001b[0mqct\u001b[0m \u001b[0;34m=\u001b[0m \u001b[0mQubitCNOTLinear\u001b[0m\u001b[0;34m(\u001b[0m\u001b[0;34m)\u001b[0m\u001b[0;34m\u001b[0m\u001b[0;34m\u001b[0m\u001b[0m\n",
      "\u001b[0;31mValueError\u001b[0m: only 2 non-keyword arguments accepted"
     ]
    }
   ],
   "source": [
    "import numpy as np\n",
    "from search_compiler_native import *\n",
    "from search_compiler.gatesets import QubitCNOTLinear\n",
    "from search_compiler.circuits import *\n",
    "\n",
    "def native_fill_row(gate, n):\n",
    "    return GateKronecker(np.repeat(gate, n))\n",
    "\n",
    "def native_linear_topo(double_step, single_step, n, d, identity_step=None):\n",
    "    if not identity_step:\n",
    "        identity_step = GateIdentity(n, d)\n",
    "    return [GateProduct(np.array([GateKronecker(np.array(*[identity_step]*i, double_step, *[identity_step]*(n-i-2))),\n",
    "                        GateKronecker(np.array(*[identity_step]*i, single_step, single_step, *[identity_step]*(n-i-2)))])\n",
    "            ) for i in range(0,n-1)]\n",
    "qubits = 4\n",
    "qct = QubitCNOTLinear()\n",
    "qct.initial_layer(qubits, 1)\n",
    "qct.search_layers(qubits, 1)\n",
    "\n",
    "native_fill_row(GateSingleQubit(1), qubits)\n",
    "native_linear_topo(GateCNOT(), GateSingleQubit(1), qubits, 1)"
   ]
  },
  {
   "cell_type": "code",
   "execution_count": null,
   "metadata": {},
   "outputs": [],
   "source": []
  }
 ],
 "metadata": {
  "kernelspec": {
   "display_name": "quantumsythesis",
   "language": "python",
   "name": "quantumsythesis"
  },
  "language_info": {
   "codemirror_mode": {
    "name": "ipython",
    "version": 3
   },
   "file_extension": ".py",
   "mimetype": "text/x-python",
   "name": "python",
   "nbconvert_exporter": "python",
   "pygments_lexer": "ipython3",
   "version": "3.7.3"
  }
 },
 "nbformat": 4,
 "nbformat_minor": 2
}
